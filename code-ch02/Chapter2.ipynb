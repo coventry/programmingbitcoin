{
 "cells": [
  {
   "cell_type": "code",
   "execution_count": 1,
   "metadata": {},
   "outputs": [
    {
     "name": "stdout",
     "output_type": "stream",
     "text": [
      "Overwriting ecc.py\n"
     ]
    }
   ],
   "source": [
    "%%writefile ecc.py\n",
    "\n",
    "from unittest import TestCase\n",
    "\n",
    "\n",
    "class FieldElement:\n",
    "\n",
    "    def __init__(self, num, prime):\n",
    "        if num >= prime or num < 0:\n",
    "            error = 'Num {} not in field range 0 to {}'.format(\n",
    "                num, prime - 1)\n",
    "            raise ValueError(error)\n",
    "        self.num = num\n",
    "        self.prime = prime\n",
    "\n",
    "    def __repr__(self):\n",
    "        return 'FieldElement_{}({})'.format(self.prime, self.num)\n",
    "\n",
    "    def __eq__(self, other):\n",
    "        if other is None:\n",
    "            return False\n",
    "        return self.num == other.num and self.prime == other.prime\n",
    "\n",
    "    def __ne__(self, other):\n",
    "        # this should be the inverse of the == operator\n",
    "        return not (self == other)\n",
    "\n",
    "    def __add__(self, other):\n",
    "        if self.prime != other.prime:\n",
    "            raise TypeError('Cannot add two numbers in different Fields')\n",
    "        # self.num and other.num are the actual values\n",
    "        # self.prime is what we need to mod against\n",
    "        num = (self.num + other.num) % self.prime\n",
    "        # We return an element of the same class\n",
    "        return self.__class__(num, self.prime)\n",
    "\n",
    "    def __sub__(self, other):\n",
    "        if self.prime != other.prime:\n",
    "            raise TypeError('Cannot subtract two numbers in different Fields')\n",
    "        # self.num and other.num are the actual values\n",
    "        # self.prime is what we need to mod against\n",
    "        num = (self.num - other.num) % self.prime\n",
    "        # We return an element of the same class\n",
    "        return self.__class__(num, self.prime)\n",
    "\n",
    "    def __mul__(self, other):\n",
    "        if self.prime != other.prime:\n",
    "            raise TypeError('Cannot multiply two numbers in different Fields')\n",
    "        # self.num and other.num are the actual values\n",
    "        # self.prime is what we need to mod against\n",
    "        num = (self.num * other.num) % self.prime\n",
    "        # We return an element of the same class\n",
    "        return self.__class__(num, self.prime)\n",
    "\n",
    "    def __pow__(self, exponent):\n",
    "        n = exponent % (self.prime - 1)\n",
    "        num = pow(self.num, n, self.prime)\n",
    "        return self.__class__(num, self.prime)\n",
    "\n",
    "    def __truediv__(self, other):\n",
    "        if self.prime != other.prime:\n",
    "            raise TypeError('Cannot divide two numbers in different Fields')\n",
    "        # self.num and other.num are the actual values\n",
    "        # self.prime is what we need to mod against\n",
    "        # use fermat's little theorem:\n",
    "        # self.num**(p-1) % p == 1\n",
    "        # this means:\n",
    "        # 1/n == pow(n, p-2, p)\n",
    "        num = (self.num * pow(other.num, self.prime - 2, self.prime)) % self.prime\n",
    "        # We return an element of the same class\n",
    "        return self.__class__(num, self.prime)\n",
    "\n",
    "\n",
    "class FieldElementTest(TestCase):\n",
    "\n",
    "    def test_ne(self):\n",
    "        a = FieldElement(2, 31)\n",
    "        b = FieldElement(2, 31)\n",
    "        c = FieldElement(15, 31)\n",
    "        self.assertEqual(a, b)\n",
    "        self.assertTrue(a != c)\n",
    "        self.assertFalse(a != b)\n",
    "\n",
    "    def test_add(self):\n",
    "        a = FieldElement(2, 31)\n",
    "        b = FieldElement(15, 31)\n",
    "        self.assertEqual(a + b, FieldElement(17, 31))\n",
    "        a = FieldElement(17, 31)\n",
    "        b = FieldElement(21, 31)\n",
    "        self.assertEqual(a + b, FieldElement(7, 31))\n",
    "\n",
    "    def test_sub(self):\n",
    "        a = FieldElement(29, 31)\n",
    "        b = FieldElement(4, 31)\n",
    "        self.assertEqual(a - b, FieldElement(25, 31))\n",
    "        a = FieldElement(15, 31)\n",
    "        b = FieldElement(30, 31)\n",
    "        self.assertEqual(a - b, FieldElement(16, 31))\n",
    "\n",
    "    def test_mul(self):\n",
    "        a = FieldElement(24, 31)\n",
    "        b = FieldElement(19, 31)\n",
    "        self.assertEqual(a * b, FieldElement(22, 31))\n",
    "\n",
    "    def test_pow(self):\n",
    "        a = FieldElement(17, 31)\n",
    "        self.assertEqual(a**3, FieldElement(15, 31))\n",
    "        a = FieldElement(5, 31)\n",
    "        b = FieldElement(18, 31)\n",
    "        self.assertEqual(a**5 * b, FieldElement(16, 31))\n",
    "\n",
    "    def test_div(self):\n",
    "        a = FieldElement(3, 31)\n",
    "        b = FieldElement(24, 31)\n",
    "        self.assertEqual(a / b, FieldElement(4, 31))\n",
    "        a = FieldElement(17, 31)\n",
    "        self.assertEqual(a**-3, FieldElement(29, 31))\n",
    "        a = FieldElement(4, 31)\n",
    "        b = FieldElement(11, 31)\n",
    "        self.assertEqual(a**-4 * b, FieldElement(13, 31))\n",
    "\n",
    "\n",
    "# tag::source1[]\n",
    "class Point:\n",
    "\n",
    "    def __init__(self, x, y, a, b):\n",
    "        self.a = a\n",
    "        self.b = b\n",
    "        self.x = x\n",
    "        self.y = y\n",
    "        # end::source1[]\n",
    "        # tag::source2[]\n",
    "        if self.x is None and self.y is None:  # <1>\n",
    "            return\n",
    "        # end::source2[]\n",
    "        # tag::source1[]\n",
    "        if self.y**2 != self.x**3 + a * x + b:  # <1>\n",
    "            raise ValueError('({}, {}) is not on the curve'.format(x, y))\n",
    "\n",
    "    def __eq__(self, other):  # <2>\n",
    "        return self.x == other.x and self.y == other.y \\\n",
    "            and self.a == other.a and self.b == other.b\n",
    "    # end::source1[]\n",
    "\n",
    "    def __ne__(self, other):\n",
    "        # this should be the inverse of the == operator\n",
    "        raise NotImplementedError\n",
    "\n",
    "    def __repr__(self):\n",
    "        if self.x is None:\n",
    "            return 'Point(infinity)'\n",
    "        else:\n",
    "            return 'Point({},{})_{}_{}'.format(self.x, self.y, self.a, self.b)\n",
    "\n",
    "    # tag::source3[]\n",
    "    def __add__(self, other):  # <2>\n",
    "        if self.a != other.a or self.b != other.b:\n",
    "            raise TypeError('Points {}, {} are not on the same curve'.format\n",
    "            (self, other))\n",
    "\n",
    "        if self.x is None:  # <3>\n",
    "            return other\n",
    "        if other.x is None:  # <4>\n",
    "            return self\n",
    "        # end::source3[]\n",
    "\n",
    "        # Case 1: self.x == other.x, self.y != other.y\n",
    "        # Result is point at infinity\n",
    "\n",
    "        # Case 2: self.x != other.x\n",
    "        # Formula (x3,y3)==(x1,y1)+(x2,y2)\n",
    "        # s=(y2-y1)/(x2-x1)\n",
    "        # x3=s**2-x1-x2\n",
    "        # y3=s*(x1-x3)-y1\n",
    "\n",
    "        # Case 3: self == other\n",
    "        # Formula (x3,y3)=(x1,y1)+(x1,y1)\n",
    "        # s=(3*x1**2+a)/(2*y1)\n",
    "        # x3=s**2-2*x1\n",
    "        # y3=s*(x1-x3)-y1\n",
    "\n",
    "        raise NotImplementedError\n",
    "\n",
    "\n",
    "class PointTest(TestCase):\n",
    "\n",
    "    def test_ne(self):\n",
    "        a = Point(x=3, y=-7, a=5, b=7)\n",
    "        b = Point(x=18, y=77, a=5, b=7)\n",
    "        self.assertTrue(a != b)\n",
    "        self.assertFalse(a != a)\n",
    "\n",
    "    def test_add0(self):\n",
    "        a = Point(x=None, y=None, a=5, b=7)\n",
    "        b = Point(x=2, y=5, a=5, b=7)\n",
    "        c = Point(x=2, y=-5, a=5, b=7)\n",
    "        self.assertEqual(a + b, b)\n",
    "        self.assertEqual(b + a, b)\n",
    "        self.assertEqual(b + c, a)\n",
    "\n",
    "    def test_add1(self):\n",
    "        a = Point(x=3, y=7, a=5, b=7)\n",
    "        b = Point(x=-1, y=-1, a=5, b=7)\n",
    "        self.assertEqual(a + b, Point(x=2, y=-5, a=5, b=7))\n",
    "\n",
    "    def test_add2(self):\n",
    "        a = Point(x=-1, y=-1, a=5, b=7)\n",
    "        self.assertEqual(a + a, Point(x=18, y=77, a=5, b=7))"
   ]
  },
  {
   "cell_type": "code",
   "execution_count": 2,
   "metadata": {},
   "outputs": [],
   "source": [
    "############## PLEASE RUN THIS CELL FIRST! ###################\n",
    "\n",
    "# import everything and define a test runner function\n",
    "\n",
    "import sys\n",
    "if sys.version_info.major == 3:\n",
    "    from importlib import reload\n",
    "# from helper import run\n",
    "import ecc\n",
    "# import helper\n",
    "\n",
    "from ecc import Point\n",
    "\n",
    "# From run.py\n",
    "from unittest import TestSuite, TextTestRunner\n",
    "\n",
    "\n",
    "def run(test):\n",
    "    suite = TestSuite()\n",
    "    suite.addTest(test)\n",
    "    TextTestRunner().run(suite)"
   ]
  },
  {
   "cell_type": "code",
   "execution_count": 3,
   "metadata": {},
   "outputs": [],
   "source": [
    "from ecc import Point\n",
    "p1 = Point(-1, -1, 5, 7)\n",
    "# p2 = Point(-1, -2, 5, 7)"
   ]
  },
  {
   "cell_type": "markdown",
   "metadata": {},
   "source": [
    "### Exercise 1\n",
    "\n",
    "Determine which of these points are on the curve \\\\(y^{2}\\\\)=\\\\(x^{3}\\\\)+5x+7:\n",
    "\n",
    "(2,4), (-1,-1), (18,77), (5,7)"
   ]
  },
  {
   "cell_type": "code",
   "execution_count": 4,
   "metadata": {},
   "outputs": [],
   "source": [
    "# Exercise 1\n",
    "\n",
    "# (2,4), (-1,-1), (18,77), (5,7)\n",
    "# equation in python is: y**2 == x**3 + 5*x + 7"
   ]
  },
  {
   "cell_type": "markdown",
   "metadata": {},
   "source": [
    "### Exercise 2\n",
    "\n",
    "Write the `__ne__` method for `Point`.\n",
    "\n",
    "#### Make [this test](/edit/code-ch02/ecc.py) pass: `ecc.py:PointTest:test_ne`"
   ]
  },
  {
   "cell_type": "code",
   "execution_count": 5,
   "metadata": {},
   "outputs": [
    {
     "name": "stderr",
     "output_type": "stream",
     "text": [
      "E\n",
      "======================================================================\n",
      "ERROR: test_ne (ecc.PointTest)\n",
      "----------------------------------------------------------------------\n",
      "Traceback (most recent call last):\n",
      "  File \"/home/ubuntu/alien/programmingbitcoin/code-ch02/ecc.py\", line 189, in test_ne\n",
      "    self.assertTrue(a != b)\n",
      "  File \"/home/ubuntu/alien/programmingbitcoin/code-ch02/ecc.py\", line 146, in __ne__\n",
      "    raise NotImplementedError\n",
      "NotImplementedError\n",
      "\n",
      "----------------------------------------------------------------------\n",
      "Ran 1 test in 0.001s\n",
      "\n",
      "FAILED (errors=1)\n"
     ]
    }
   ],
   "source": [
    "# Exercise 2\n",
    "\n",
    "reload(ecc)\n",
    "run(ecc.PointTest(\"test_ne\"))"
   ]
  },
  {
   "cell_type": "code",
   "execution_count": 6,
   "metadata": {},
   "outputs": [
    {
     "name": "stdout",
     "output_type": "stream",
     "text": [
      "Point(-1,-1)_5_7\n",
      "Point(-1,1)_5_7\n"
     ]
    },
    {
     "ename": "NotImplementedError",
     "evalue": "",
     "output_type": "error",
     "traceback": [
      "\u001b[0;31m---------------------------------------------------------------------------\u001b[0m",
      "\u001b[0;31mNotImplementedError\u001b[0m                       Traceback (most recent call last)",
      "\u001b[0;32m<ipython-input-6-f18cc6e4c0fa>\u001b[0m in \u001b[0;36m<module>\u001b[0;34m\u001b[0m\n\u001b[1;32m      5\u001b[0m \u001b[0mprint\u001b[0m\u001b[0;34m(\u001b[0m\u001b[0mp1\u001b[0m \u001b[0;34m+\u001b[0m \u001b[0minf\u001b[0m\u001b[0;34m)\u001b[0m\u001b[0;34m\u001b[0m\u001b[0;34m\u001b[0m\u001b[0m\n\u001b[1;32m      6\u001b[0m \u001b[0mprint\u001b[0m\u001b[0;34m(\u001b[0m\u001b[0minf\u001b[0m \u001b[0;34m+\u001b[0m \u001b[0mp2\u001b[0m\u001b[0;34m)\u001b[0m\u001b[0;34m\u001b[0m\u001b[0;34m\u001b[0m\u001b[0m\n\u001b[0;32m----> 7\u001b[0;31m \u001b[0mprint\u001b[0m\u001b[0;34m(\u001b[0m\u001b[0mp1\u001b[0m \u001b[0;34m+\u001b[0m \u001b[0mp2\u001b[0m\u001b[0;34m)\u001b[0m\u001b[0;34m\u001b[0m\u001b[0;34m\u001b[0m\u001b[0m\n\u001b[0m",
      "\u001b[0;32m~/alien/programmingbitcoin/code-ch02/ecc.py\u001b[0m in \u001b[0;36m__add__\u001b[0;34m(self, other)\u001b[0m\n\u001b[1;32m    179\u001b[0m         \u001b[0;31m# y3=s*(x1-x3)-y1\u001b[0m\u001b[0;34m\u001b[0m\u001b[0;34m\u001b[0m\u001b[0;34m\u001b[0m\u001b[0m\n\u001b[1;32m    180\u001b[0m \u001b[0;34m\u001b[0m\u001b[0m\n\u001b[0;32m--> 181\u001b[0;31m         \u001b[0;32mraise\u001b[0m \u001b[0mNotImplementedError\u001b[0m\u001b[0;34m\u001b[0m\u001b[0;34m\u001b[0m\u001b[0m\n\u001b[0m\u001b[1;32m    182\u001b[0m \u001b[0;34m\u001b[0m\u001b[0m\n\u001b[1;32m    183\u001b[0m \u001b[0;34m\u001b[0m\u001b[0m\n",
      "\u001b[0;31mNotImplementedError\u001b[0m: "
     ]
    }
   ],
   "source": [
    "from ecc import Point\n",
    "p1 = Point(-1, -1, 5, 7)\n",
    "p2 = Point(-1, 1, 5, 7)\n",
    "inf = Point(None, None, 5, 7)\n",
    "print(p1 + inf)\n",
    "print(inf + p2)\n",
    "print(p1 + p2)"
   ]
  },
  {
   "cell_type": "markdown",
   "metadata": {},
   "source": [
    "### Exercise 3\n",
    "\n",
    "Handle the case where the two points are additive inverses. That is, they have the same `x`, but a different `y`, causing a vertical line. This should return the point at infinity.\n",
    "\n",
    "#### Make [this test](/edit/code-ch02/ecc.py) pass: `ecc.py:PointTest:test_add0`"
   ]
  },
  {
   "cell_type": "code",
   "execution_count": null,
   "metadata": {},
   "outputs": [],
   "source": [
    "# Exercise 3\n",
    "\n",
    "reload(ecc)\n",
    "run(ecc.PointTest(\"test_add0\"))"
   ]
  },
  {
   "cell_type": "markdown",
   "metadata": {},
   "source": [
    "### Exercise 4\n",
    "\n",
    "For the curve \\\\(y^{2}\\\\)=\\\\(x^{3}\\\\)+5x+7, what is (2,5) + (-1,-1)?"
   ]
  },
  {
   "cell_type": "code",
   "execution_count": null,
   "metadata": {},
   "outputs": [],
   "source": [
    "# Exercise 4\n",
    "\n",
    "from ecc import Point\n",
    "\n",
    "a = 5\n",
    "b = 7\n",
    "x1, y1 = 2, 5\n",
    "x2, y2 = -1, -1\n",
    "\n",
    "# (x1,y1) + (x2,y2)"
   ]
  },
  {
   "cell_type": "markdown",
   "metadata": {},
   "source": [
    "### Exercise 5\n",
    "\n",
    "Write the `__add__` method where \\\\(x_{1}\\\\)≠\\\\(x_{2}\\\\)\n",
    "\n",
    "#### Make [this test](/edit/code-ch02/ecc.py) pass: `ecc.py:PointTest:test_add1`"
   ]
  },
  {
   "cell_type": "code",
   "execution_count": null,
   "metadata": {},
   "outputs": [],
   "source": [
    "# Exercise 5\n",
    "\n",
    "reload(ecc)\n",
    "run(ecc.PointTest(\"test_add1\"))"
   ]
  },
  {
   "cell_type": "markdown",
   "metadata": {},
   "source": [
    "### Exercise 6\n",
    "\n",
    "For the curve \\\\(y^{2}\\\\)=\\\\(x^{3}\\\\)+5x+7, what is (-1,-1) + (-1,-1)?"
   ]
  },
  {
   "cell_type": "code",
   "execution_count": null,
   "metadata": {},
   "outputs": [],
   "source": [
    "# Exercise 6\n",
    "\n",
    "from ecc import Point\n",
    "\n",
    "a = 5\n",
    "b = 7\n",
    "x1, y1 = -1, -1\n",
    "# (-1,-1) + (-1,-1)"
   ]
  },
  {
   "cell_type": "markdown",
   "metadata": {},
   "source": [
    "### Exercise 7\n",
    "\n",
    "Write the `__add__` method when \\\\(P_{1}\\\\)=\\\\(P_{2}\\\\).\n",
    "\n",
    "#### Make [this test](/edit/code-ch02/ecc.py) pass: `ecc.py:PointTest:test_add2`"
   ]
  },
  {
   "cell_type": "code",
   "execution_count": null,
   "metadata": {},
   "outputs": [],
   "source": [
    "# Exercise 7\n",
    "\n",
    "reload(ecc)\n",
    "run(ecc.PointTest(\"test_add2\"))"
   ]
  }
 ],
 "metadata": {
  "kernelspec": {
   "display_name": "Python 2",
   "language": "python",
   "name": "python2"
  },
  "language_info": {
   "codemirror_mode": {
    "name": "ipython",
    "version": 3
   },
   "file_extension": ".py",
   "mimetype": "text/x-python",
   "name": "python",
   "nbconvert_exporter": "python",
   "pygments_lexer": "ipython3",
   "version": "3.6.8"
  }
 },
 "nbformat": 4,
 "nbformat_minor": 2
}
